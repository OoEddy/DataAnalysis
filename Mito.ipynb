{
 "cells": [
  {
   "cell_type": "code",
   "execution_count": 4,
   "id": "00a76bf6",
   "metadata": {},
   "outputs": [],
   "source": [
    "import mitosheet\n"
   ]
  },
  {
   "cell_type": "code",
   "execution_count": 3,
   "id": "41714fbb",
   "metadata": {},
   "outputs": [],
   "source": [
    "from mitosheet import *; register_analysis(\"id-ubehzzxvnx\");\n",
    "    \n",
    "# Imported StudentsPerformance.csv\n",
    "import pandas as pd\n",
    "StudentsPerformance = pd.read_csv(r'C:\\Users\\Edwin.mutwiri\\Anaconda3\\Mito Projects\\school scores\\StudentsPerformance.csv')\n",
    "\n",
    "# Pivoted into StudentsPerformance\n",
    "tmp_df = StudentsPerformance[['group', 'gender', 'math score']]\n",
    "pivot_table = tmp_df.pivot_table(\n",
    "    index=['gender'],\n",
    "    columns=['group'],\n",
    "    values=['math score'],\n",
    "    aggfunc={'math score': ['count']}\n",
    ")\n",
    "pivot_table.set_axis([flatten_column_header(col) for col in pivot_table.keys()], axis=1, inplace=True)\n",
    "StudentsPerformance_pivot = pivot_table.reset_index()\n"
   ]
  },
  {
   "cell_type": "code",
   "execution_count": 5,
   "id": "2e7a9a18",
   "metadata": {},
   "outputs": [
    {
     "data": {
      "application/vnd.jupyter.widget-view+json": {
       "model_id": "33d9a218ad324c6593876961909605fd",
       "version_major": 2,
       "version_minor": 0
      },
      "text/plain": [
       "MitoWidget(analysis_data_json='{\"analysisName\": \"id-xqpzsbbvim\", \"analysisToReplay\": {\"analysisName\": \"id-ubeh…"
      ]
     },
     "metadata": {},
     "output_type": "display_data"
    }
   ],
   "source": [
    "mitosheet.sheet(analysis_to_replay=\"id-ubehzzxvnx\")"
   ]
  },
  {
   "cell_type": "code",
   "execution_count": 6,
   "id": "579a3837",
   "metadata": {},
   "outputs": [],
   "source": [
    "from mitosheet import *; register_analysis(\"id-ubehzzxvnx\");\n",
    "    \n",
    "# Imported StudentsPerformance.csv\n",
    "import pandas as pd\n",
    "StudentsPerformance = pd.read_csv(r'C:\\Users\\Edwin.mutwiri\\Anaconda3\\Mito Projects\\school scores\\StudentsPerformance.csv')\n",
    "\n",
    "# Pivoted into StudentsPerformance\n",
    "tmp_df = StudentsPerformance[['group', 'gender', 'math score']]\n",
    "pivot_table = tmp_df.pivot_table(\n",
    "    index=['gender'],\n",
    "    columns=['group'],\n",
    "    values=['math score'],\n",
    "    aggfunc={'math score': ['count']}\n",
    ")\n",
    "pivot_table.set_axis([flatten_column_header(col) for col in pivot_table.keys()], axis=1, inplace=True)\n",
    "StudentsPerformance_pivot = pivot_table.reset_index()\n",
    "\n",
    "# Added column new-column-1i89\n",
    "StudentsPerformance.insert(1, 'new-column-1i89', 0)\n",
    "\n",
    "# Renamed columns Average\n",
    "StudentsPerformance.rename(columns={'new-column-1i89': 'Average'}, inplace=True)\n",
    "\n",
    "# Set formula of Average\n",
    "StudentsPerformance['Average'] = (StudentsPerformance['math score']+StudentsPerformance['reading score']+StudentsPerformance['writing score'])/3\n",
    "\n",
    "# Added column new-column-3az0\n",
    "StudentsPerformance.insert(2, 'new-column-3az0', 0)\n",
    "\n",
    "# Deleted columns new-column-3az0\n",
    "StudentsPerformance.drop(['new-column-3az0'], axis=1, inplace=True)\n",
    "\n",
    "# Pivoted into StudentsPerformance\n",
    "tmp_df = StudentsPerformance[['group', 'Average']]\n",
    "pivot_table = tmp_df.pivot_table(\n",
    "    index=['group'],\n",
    "    values=['Average'],\n",
    "    aggfunc={'Average': ['count']}\n",
    ")\n",
    "pivot_table.set_axis([flatten_column_header(col) for col in pivot_table.keys()], axis=1, inplace=True)\n",
    "StudentsPerformance_pivot = pivot_table.reset_index()\n"
   ]
  },
  {
   "cell_type": "code",
   "execution_count": null,
   "id": "f8226fa8",
   "metadata": {},
   "outputs": [],
   "source": []
  }
 ],
 "metadata": {
  "kernelspec": {
   "display_name": "Python 3 (ipykernel)",
   "language": "python",
   "name": "python3"
  },
  "language_info": {
   "codemirror_mode": {
    "name": "ipython",
    "version": 3
   },
   "file_extension": ".py",
   "mimetype": "text/x-python",
   "name": "python",
   "nbconvert_exporter": "python",
   "pygments_lexer": "ipython3",
   "version": "3.9.7"
  }
 },
 "nbformat": 4,
 "nbformat_minor": 5
}
